{
 "cells": [
  {
   "cell_type": "markdown",
   "metadata": {},
   "source": [
    "# Reinforcement Learning - Lab"
   ]
  },
  {
   "cell_type": "markdown",
   "metadata": {},
   "source": [
    "## Introduction\n",
    "In this lab you will take what you have learned about Reinforcement Learning and build an AI capable of playing a game. That game is called CartPole and involves balancing a pole that is on a cart.\n",
    "<br>\n",
    "<br>\n",
    "More info about the environment can be found here\n",
    "<br>\n",
    "http://gym.openai.com/envs/CartPole-v1/\n",
    "<br>\n",
    "<br>\n",
    "This is a great first environment to try out RL on because it is siginificantly less expensive to train than other environments."
   ]
  },
  {
   "cell_type": "markdown",
   "metadata": {},
   "source": [
    "## Objectives\n",
    "You will be able to:\n",
    "* Build a DQN agent\n",
    "* Train the agent to play CartPole, achieving an average score of at least 500"
   ]
  },
  {
   "cell_type": "markdown",
   "metadata": {},
   "source": [
    "## Importing libraries\n",
    "Let's start by importing the necessary libraries."
   ]
  },
  {
   "cell_type": "code",
   "execution_count": 6,
   "metadata": {},
   "outputs": [
    {
     "name": "stderr",
     "output_type": "stream",
     "text": [
      "Using TensorFlow backend.\n"
     ]
    }
   ],
   "source": [
    "import random\n",
    "import numpy as np\n",
    "import keras\n",
    "from keras.models import Model\n",
    "from keras.models import Sequential\n",
    "from keras.layers import Dense\n",
    "from collections import deque\n",
    "from keras.optimizers import Adam\n",
    "import matplotlib.pyplot as plt\n",
    "import gym\n",
    "import pickle\n",
    "import time"
   ]
  },
  {
   "cell_type": "markdown",
   "metadata": {},
   "source": [
    "## Setting up environment\n",
    "Now we need to create the environment. The maximum number of steps in the game is by default set to 200. For this lab we will want to achieve an average score of 500, so we need to increase the max episode steps to 1000."
   ]
  },
  {
   "cell_type": "code",
   "execution_count": 7,
   "metadata": {},
   "outputs": [],
   "source": [
    "env = gym.make('CartPole-v1')\n",
    "env._max_episode_steps = 1000"
   ]
  },
  {
   "cell_type": "markdown",
   "metadata": {},
   "source": [
    "We can view the size of the action space by running the following command."
   ]
  },
  {
   "cell_type": "code",
   "execution_count": 8,
   "metadata": {},
   "outputs": [
    {
     "data": {
      "text/plain": [
       "Discrete(2)"
      ]
     },
     "execution_count": 8,
     "metadata": {},
     "output_type": "execute_result"
    }
   ],
   "source": [
    "env.action_space"
   ]
  },
  {
   "cell_type": "markdown",
   "metadata": {},
   "source": [
    "This tells us that there are 2 possible actions - 0 and 1. In this environment 0 correspondings to the cart moving left and 1 corresponds to the cart moving right."
   ]
  },
  {
   "cell_type": "markdown",
   "metadata": {},
   "source": [
    "Below shows the observation space for CartPole. This is the data we will get for each state of the game. These 4 variables will be what we use to train our model. It is important to note that these values will be normalized to [0,1] before they are given to us in the state data."
   ]
  },
  {
   "cell_type": "markdown",
   "metadata": {},
   "source": [
    "    Observation: \n",
    "        Type: Box(4)\n",
    "        Num\tObservation                 Min         Max\n",
    "        0\tCart Position             -4.8            4.8\n",
    "        1\tCart Velocity             -Inf            Inf\n",
    "        2\tPole Angle                 -24 deg        24 deg\n",
    "        3\tPole Velocity At Tip      -Inf            Inf"
   ]
  },
  {
   "cell_type": "markdown",
   "metadata": {},
   "source": [
    "Some addtional info can be seen below regarding how the game decides it has lost."
   ]
  },
  {
   "cell_type": "markdown",
   "metadata": {},
   "source": [
    "    Termination: \n",
    "        Pole Angle is more than 12 degrees\n",
    "        Cart Position is more than 2.4 (center of the cart reaches the edge of the display)"
   ]
  },
  {
   "cell_type": "markdown",
   "metadata": {},
   "source": [
    "Scoring in this game is simple - each step that is made without ending the game will grant +1 point. A step that terminates the game will grant -1 point."
   ]
  },
  {
   "cell_type": "markdown",
   "metadata": {},
   "source": [
    "## Baseline performance"
   ]
  },
  {
   "cell_type": "markdown",
   "metadata": {},
   "source": [
    "Now let's get the environment up and running and have it play a couple games randomly so we can get an idea of the baseline performance. We will keep track of the score each game so that we can get an average per 100 games. We will also plot the scores of each game to get idea of the variation in scores."
   ]
  },
  {
   "cell_type": "code",
   "execution_count": 9,
   "metadata": {},
   "outputs": [
    {
     "name": "stdout",
     "output_type": "stream",
     "text": [
      "Game 0 score: 15\n",
      "Game 1 score: 15\n",
      "Game 2 score: 32\n",
      "Game 3 score: 16\n",
      "Game 4 score: 22\n",
      "Game 5 score: 26\n",
      "Game 6 score: 23\n",
      "Game 7 score: 14\n",
      "Game 8 score: 16\n",
      "Game 9 score: 15\n",
      "Game 10 score: 47\n",
      "Game 11 score: 9\n",
      "Game 12 score: 61\n",
      "Game 13 score: 28\n",
      "Game 14 score: 35\n",
      "Game 15 score: 53\n",
      "Game 16 score: 19\n",
      "Game 17 score: 18\n",
      "Game 18 score: 28\n",
      "Game 19 score: 30\n",
      "Game 20 score: 13\n",
      "Game 21 score: 13\n",
      "Game 22 score: 15\n",
      "Game 23 score: 13\n",
      "Game 24 score: 38\n",
      "Game 25 score: 16\n",
      "Game 26 score: 34\n",
      "Game 27 score: 10\n",
      "Game 28 score: 19\n",
      "Game 29 score: 17\n",
      "Game 30 score: 36\n",
      "Game 31 score: 21\n",
      "Game 32 score: 14\n",
      "Game 33 score: 36\n",
      "Game 34 score: 23\n",
      "Game 35 score: 15\n",
      "Game 36 score: 18\n",
      "Game 37 score: 27\n",
      "Game 38 score: 17\n",
      "Game 39 score: 12\n",
      "Game 40 score: 15\n",
      "Game 41 score: 15\n",
      "Game 42 score: 15\n",
      "Game 43 score: 36\n",
      "Game 44 score: 18\n",
      "Game 45 score: 28\n",
      "Game 46 score: 24\n",
      "Game 47 score: 66\n",
      "Game 48 score: 11\n",
      "Game 49 score: 41\n",
      "Game 50 score: 44\n",
      "Game 51 score: 19\n",
      "Game 52 score: 18\n",
      "Game 53 score: 16\n",
      "Game 54 score: 15\n",
      "Game 55 score: 14\n",
      "Game 56 score: 23\n",
      "Game 57 score: 22\n",
      "Game 58 score: 18\n",
      "Game 59 score: 18\n",
      "Game 60 score: 37\n",
      "Game 61 score: 12\n",
      "Game 62 score: 14\n",
      "Game 63 score: 36\n",
      "Game 64 score: 10\n",
      "Game 65 score: 21\n",
      "Game 66 score: 11\n",
      "Game 67 score: 11\n",
      "Game 68 score: 10\n",
      "Game 69 score: 20\n",
      "Game 70 score: 8\n",
      "Game 71 score: 33\n",
      "Game 72 score: 20\n",
      "Game 73 score: 11\n",
      "Game 74 score: 22\n",
      "Game 75 score: 14\n",
      "Game 76 score: 14\n",
      "Game 77 score: 31\n",
      "Game 78 score: 10\n",
      "Game 79 score: 17\n",
      "Game 80 score: 11\n",
      "Game 81 score: 34\n",
      "Game 82 score: 19\n",
      "Game 83 score: 16\n",
      "Game 84 score: 11\n",
      "Game 85 score: 17\n",
      "Game 86 score: 47\n",
      "Game 87 score: 18\n",
      "Game 88 score: 20\n",
      "Game 89 score: 16\n",
      "Game 90 score: 25\n",
      "Game 91 score: 26\n",
      "Game 92 score: 32\n",
      "Game 93 score: 18\n",
      "Game 94 score: 19\n",
      "Game 95 score: 16\n",
      "Game 96 score: 14\n",
      "Game 97 score: 18\n",
      "Game 98 score: 17\n",
      "Game 99 score: 10\n"
     ]
    },
    {
     "data": {
      "text/plain": [
       "Text(0, 0.5, 'Score')"
      ]
     },
     "execution_count": 9,
     "metadata": {},
     "output_type": "execute_result"
    },
    {
     "data": {
      "image/png": "[encoded data removed]",
      "text/plain": [
       "<Figure size 432x288 with 1 Axes>"
      ]
     },
     "metadata": {
      "needs_background": "light"
     },
     "output_type": "display_data"
    }
   ],
   "source": [
    "n_games = 100\n",
    "n_steps = 1000\n",
    "scores = []\n",
    "for game in range(n_games):\n",
    "    state = env.reset()\n",
    "    for t in range(n_steps):\n",
    "        env.render()\n",
    "        action = env.action_space.sample()\n",
    "        next_state, reward, done, info = env.step(action)\n",
    "        if done:\n",
    "            print('Game ' + str(game) + ' score: ' + str(t))\n",
    "            scores.append(t)\n",
    "            break\n",
    "env.close()\n",
    "plt.plot(scores)\n",
    "plt.title('End Game Scores')\n",
    "plt.xlabel('Game')\n",
    "plt.ylabel('Score')"
   ]
  },
  {
   "cell_type": "markdown",
   "metadata": {},
   "source": [
    "Our average score per 100 games is then:"
   ]
  },
  {
   "cell_type": "code",
   "execution_count": 10,
   "metadata": {},
   "outputs": [
    {
     "data": {
      "text/plain": [
       "21.71"
      ]
     },
     "execution_count": 10,
     "metadata": {},
     "output_type": "execute_result"
    }
   ],
   "source": [
    "np.mean(scores)"
   ]
  },
  {
   "cell_type": "markdown",
   "metadata": {},
   "source": [
    "## Building a DQN Agent\n",
    "Now we can start building the agent that will learn to play CartPole."
   ]
  },
  {
   "cell_type": "markdown",
   "metadata": {},
   "source": [
    "We first want to choose and initialize our parameters."
   ]
  },
  {
   "cell_type": "markdown",
   "metadata": {},
   "source": [
    "For each state we are given 4 values, thus the input_shape for our network will be 4."
   ]
  },
  {
   "cell_type": "code",
   "execution_count": 11,
   "metadata": {},
   "outputs": [],
   "source": [
    "input_shape = 4"
   ]
  },
  {
   "cell_type": "markdown",
   "metadata": {},
   "source": [
    "The batch_size will be 64. This means that every time we perform experience replay, we will sample 64 different memories and train the model on those."
   ]
  },
  {
   "cell_type": "code",
   "execution_count": 12,
   "metadata": {},
   "outputs": [],
   "source": [
    "batch_size = 64"
   ]
  },
  {
   "cell_type": "markdown",
   "metadata": {},
   "source": [
    "We will set the total number of games to 2000. Almost certainly the model will reach its goal performance after less games (~500-1000) but just in case it takes longer we will extend the maximum number of games.\n",
    "<br>\n",
    "<br>\n",
    "The number of steps will be set to 1000 which is the maxmimum number of steps we set initially.\n",
    "<br>\n",
    "<br>\n",
    "We can also declare our score goal of 500 (avg per 100 games)."
   ]
  },
  {
   "cell_type": "code",
   "execution_count": 13,
   "metadata": {},
   "outputs": [],
   "source": [
    "n_games = 2000\n",
    "n_steps = 1000\n",
    "score_goal = 500"
   ]
  },
  {
   "cell_type": "markdown",
   "metadata": {},
   "source": [
    "For our epsilon greedy policy, we will start epsilon off at 1 and decay it by 0.95 after each training session. This way, over time, the network will rely more and more on its own predictions for moves."
   ]
  },
  {
   "cell_type": "code",
   "execution_count": 14,
   "metadata": {},
   "outputs": [],
   "source": [
    "epsilon = 1\n",
    "epsilon_decay = 0.995"
   ]
  },
  {
   "cell_type": "markdown",
   "metadata": {},
   "source": [
    "Gamma is our reward discount. This lessens the value of future rewards when calculating Q-values. The value is 0.95 is the most common value used."
   ]
  },
  {
   "cell_type": "code",
   "execution_count": 15,
   "metadata": {},
   "outputs": [],
   "source": [
    "gamma = 0.95"
   ]
  },
  {
   "cell_type": "markdown",
   "metadata": {},
   "source": [
    "Lastly, we want to initialize our memory. We will use an object known as a deque. A deque is a lot like a normal list, except that it has a max length and once that max length is reached, a new item added to the deque will cause the oldest item in the deque to be deleted. That way we only keep a maximum number of memories in storage at one time."
   ]
  },
  {
   "cell_type": "code",
   "execution_count": 16,
   "metadata": {},
   "outputs": [],
   "source": [
    "memory = deque(maxlen=10000)"
   ]
  },
  {
   "cell_type": "markdown",
   "metadata": {},
   "source": [
    "## Neural Network\n",
    "Now let's build and intial both our primary model and target model."
   ]
  },
  {
   "cell_type": "markdown",
   "metadata": {},
   "source": [
    "This architecture was found mostly through trial and error. Feel free to modify it. Odds are there is a better architecture that will train the model faster.\n",
    "<br>\n",
    "<br>\n",
    "Note that our input_dim is equal to our input_shape - 4. Also, the final layer of the network has 2 neurons - corresponding to our two possible actions: left or right. It is essential to use a linear activation function at the final layer."
   ]
  },
  {
   "cell_type": "code",
   "execution_count": 17,
   "metadata": {},
   "outputs": [
    {
     "name": "stdout",
     "output_type": "stream",
     "text": [
      "WARNING:tensorflow:From C:\\Users\\Matthew\\Anaconda3\\lib\\site-packages\\tensorflow\\python\\framework\\op_def_library.py:263: colocate_with (from tensorflow.python.framework.ops) is deprecated and will be removed in a future version.\n",
      "Instructions for updating:\n",
      "Colocations handled automatically by placer.\n",
      "_________________________________________________________________\n",
      "Layer (type)                 Output Shape              Param #   \n",
      "=================================================================\n",
      "dense_1 (Dense)              (None, 16)                80        \n",
      "_________________________________________________________________\n",
      "dense_2 (Dense)              (None, 32)                544       \n",
      "_________________________________________________________________\n",
      "dense_3 (Dense)              (None, 16)                528       \n",
      "_________________________________________________________________\n",
      "dense_4 (Dense)              (None, 8)                 136       \n",
      "_________________________________________________________________\n",
      "dense_5 (Dense)              (None, 2)                 18        \n",
      "=================================================================\n",
      "Total params: 1,306\n",
      "Trainable params: 1,306\n",
      "Non-trainable params: 0\n",
      "_________________________________________________________________\n",
      "None\n"
     ]
    }
   ],
   "source": [
    "model = Sequential()\n",
    "model.add(Dense(16, input_dim=input_shape, activation='relu'))\n",
    "model.add(Dense(32, activation='relu'))\n",
    "model.add(Dense(16, activation='relu'))\n",
    "model.add(Dense(8, activation='relu'))\n",
    "model.add(Dense(2, activation='linear'))\n",
    "model.compile(loss=\"mse\", optimizer=Adam(lr=0.001))\n",
    "print(model.summary())"
   ]
  },
  {
   "cell_type": "markdown",
   "metadata": {},
   "source": [
    "Now we can use the same architecture to create our target model."
   ]
  },
  {
   "cell_type": "code",
   "execution_count": 18,
   "metadata": {},
   "outputs": [],
   "source": [
    "target_model = Sequential()\n",
    "target_model.add(Dense(16, input_dim=input_shape, activation='relu'))\n",
    "target_model.add(Dense(32, activation='relu'))\n",
    "target_model.add(Dense(16, activation='relu'))\n",
    "target_model.add(Dense(8, activation='relu'))\n",
    "target_model.add(Dense(2, activation='linear'))\n",
    "target_model.compile(loss=\"mse\", optimizer=Adam(lr=0.001))"
   ]
  },
  {
   "cell_type": "markdown",
   "metadata": {},
   "source": [
    "## Agent Methods\n",
    "In order to train our models, we need to set up the functions required for a DQN."
   ]
  },
  {
   "cell_type": "markdown",
   "metadata": {},
   "source": [
    "The first two methods will help our agent choose an action. <br><br>\n",
    "<b>choose_action</b> will generate a random number, if it is less than our current epsilon value, then a random move will be chosen. If the random number is greater than our current epsilon value, we will need to predict a value."
   ]
  },
  {
   "cell_type": "code",
   "execution_count": 19,
   "metadata": {},
   "outputs": [],
   "source": [
    "def choose_action(state):\n",
    "    if np.random.rand() <= epsilon:    \n",
    "        action = random.choice([0,1])\n",
    "    else:\n",
    "        action = predict_action(state)\n",
    "    return action"
   ]
  },
  {
   "cell_type": "markdown",
   "metadata": {},
   "source": [
    "<b>predict_action</b> will take in a state and predict the Q-values for that state for each action. Then we can use argmax() to get the action with the highest Q-value and return that action.\n",
    "<br>\n",
    "<br>\n",
    "Note that we are using the target model to predict here."
   ]
  },
  {
   "cell_type": "code",
   "execution_count": 20,
   "metadata": {},
   "outputs": [],
   "source": [
    "def predict_action(state):\n",
    "    q_values = target_model.predict(state)\n",
    "    action = np.argmax(q_values[0])\n",
    "    return action"
   ]
  },
  {
   "cell_type": "markdown",
   "metadata": {},
   "source": [
    "Next we want to create a function that will store the agent's experiences into memory. The function is fairly straightforward, we will simply pass in the current state, the performed action, the reward, the next state, and the 'done' flag and append those values as a tuple into our memory deque."
   ]
  },
  {
   "cell_type": "code",
   "execution_count": 21,
   "metadata": {},
   "outputs": [],
   "source": [
    "def remember(state, action, reward, next_state, done):\n",
    "    memory.append((state, action, reward, next_state, done))"
   ]
  },
  {
   "cell_type": "markdown",
   "metadata": {},
   "source": [
    "We need two additional helper functions - one to decay our epsilon value and one to transfer the weights of the primary model to the target model. These are both fairly straight forward."
   ]
  },
  {
   "cell_type": "code",
   "execution_count": 22,
   "metadata": {},
   "outputs": [],
   "source": [
    "def decrease_epsilon():\n",
    "    global epsilon\n",
    "    epsilon *= epsilon_decay\n",
    "    \n",
    "def transfer_weights():\n",
    "    target_model.set_weights(model.get_weights()) "
   ]
  },
  {
   "cell_type": "markdown",
   "metadata": {},
   "source": [
    "Now for probably the most complicated of the methods - experience replay."
   ]
  },
  {
   "cell_type": "markdown",
   "metadata": {},
   "source": [
    "The way this method works is, first we check and make sure we have enough experience in memory to create a batch of our selected batch_size.\n",
    "<br>\n",
    "<br>\n",
    "Next we create our batches by randomly sampling our memory a number of times equal to batch_size.\n",
    "<br>\n",
    "<br>\n",
    "Then we iterate through each batch. For each batch, we calculate the updated Q-value. The updated Q-value is calculated by using the Q-value formula. <br><br>\n",
    "     <img src ='q_formula.png'></img>"
   ]
  },
  {
   "cell_type": "markdown",
   "metadata": {},
   "source": [
    "Using this formula, the Q-value is calculated by adding together the current reward and the maximum possible Q-value of the next state, discount by our gamma value.\n",
    "<br><br>\n",
    "Note that we are using the target model to make this prediction.\n",
    "<br><br>\n",
    "Next we want to grab the current predicted Q-values for the given state.\n",
    "<br>\n",
    "<br>\n",
    "We then update only the Q-value for the chosen action, leaving the other Q-value the same.\n",
    "<br>\n",
    "<br>\n",
    "Our primary model is then fitted on the state and the Q-values.\n",
    "<br>\n",
    "<br>\n",
    "Lastly, after each training session, we want to decay our epsilon value and also transfer the weights from the primary model to the target model."
   ]
  },
  {
   "cell_type": "code",
   "execution_count": 23,
   "metadata": {},
   "outputs": [],
   "source": [
    "def experience_replay():\n",
    "    if len(memory) < batch_size:\n",
    "        return\n",
    "    print('**training**')\n",
    "    batch = random.sample(memory, batch_size)\n",
    "    for state, action, reward, next_state, done in batch:\n",
    "        q_update = reward\n",
    "        if not done:\n",
    "            q_update = (reward + gamma * np.amax(target_model.predict(next_state)[0]))\n",
    "        q_values = target_model.predict(state)\n",
    "        q_values[0][action] = q_update\n",
    "        model.fit(state, q_values, verbose=0)\n",
    "    decrease_epsilon() \n",
    "    transfer_weights()"
   ]
  },
  {
   "cell_type": "markdown",
   "metadata": {},
   "source": [
    "In order to speed up training, we can adjust one of our input values - cart position - to force it into bins. This will help to shrink our overall state size. This works because the agent will still be learning the position of the cart on the rail, it will just be given more of a general position instead of a very specific position.\n",
    "<br>\n",
    "<br>\n",
    "You don't have to worry too much about how exactly this code works, just know that each state needs to pass through the <b>cart_position_to_bin</b> function to adjust the cart position values.\n",
    "<br>\n",
    "<br>\n",
    "Specifically we will be create 5 bins of cart positions. Feel free to experiment with more or less."
   ]
  },
  {
   "cell_type": "code",
   "execution_count": 32,
   "metadata": {},
   "outputs": [],
   "source": [
    "n_bins = 5\n",
    "bin_size = 1/n_bins\n",
    "bins = []\n",
    "for i in range(n_bins):\n",
    "    bins.append((0, bin_size*i, i))\n",
    "\n",
    "def cart_position_to_bin(state):\n",
    "    position = state[0]\n",
    "    for b in bins:\n",
    "        if position>=b[0] and position<=b[1]:\n",
    "            binned_position = b[2]\n",
    "            state[0] = binned_position\n",
    "            break\n",
    "    return state"
   ]
  },
  {
   "cell_type": "markdown",
   "metadata": {},
   "source": [
    "In order to get our state to be the correct size for the neural network, we also need to reshape the array. Below is a method to do this, coupled with the above cart position function to give you one state preprocessing method. Make sure to pass each state and next_state through this function."
   ]
  },
  {
   "cell_type": "code",
   "execution_count": 33,
   "metadata": {},
   "outputs": [],
   "source": [
    "def preprocess_state(state):\n",
    "    state = cart_position_to_bin(state)\n",
    "    state = np.reshape(state, [1, input_shape])\n",
    "    return state"
   ]
  },
  {
   "cell_type": "markdown",
   "metadata": {},
   "source": [
    "All the prework is now complete. We have all the tools necessary to start training our agent!"
   ]
  },
  {
   "cell_type": "markdown",
   "metadata": {},
   "source": [
    "## Training the agent\n",
    "Alright! Now it's time to start training. To do this, we will need to build a loop that will play through games of CartPole, training our agent along the way.\n",
    "<br><br>\n",
    "Provided below is a basic skeleton of this loop. Use what you have learned from the lesson and this lab in order to complete it. If you get lost you can always check the solution.\n",
    "<br><br>\n",
    "(Warning: this process may take some time. It takes anywhere from 30-60 minutes on my machine but that may be more or less depending on your computer and GPU.)"
   ]
  },
  {
   "cell_type": "code",
   "execution_count": 34,
   "metadata": {},
   "outputs": [
    {
     "name": "stdout",
     "output_type": "stream",
     "text": [
      "Game: 0, exploration: 1, score: 17 - avg score/100 games: 0\n",
      "Game: 1, exploration: 1, score: 16 - avg score/100 games: 0\n",
      "Game: 2, exploration: 1, score: 15 - avg score/100 games: 0\n",
      "Game: 3, exploration: 1, score: 9 - avg score/100 games: 0\n",
      "Game: 4, exploration: 1, score: 13 - avg score/100 games: 0\n",
      "**training**\n",
      "WARNING:tensorflow:From C:\\Users\\Matthew\\Anaconda3\\lib\\site-packages\\tensorflow\\python\\ops\\math_ops.py:3066: to_int32 (from tensorflow.python.ops.math_ops) is deprecated and will be removed in a future version.\n",
      "Instructions for updating:\n",
      "Use tf.cast instead.\n",
      "Game: 5, exploration: 0.99, score: 16 - avg score/100 games: 0\n",
      "**training**\n",
      "Game: 6, exploration: 0.99, score: 20 - avg score/100 games: 0\n",
      "**training**\n",
      "Game: 7, exploration: 0.99, score: 26 - avg score/100 games: 0\n",
      "**training**\n",
      "Game: 8, exploration: 0.98, score: 12 - avg score/100 games: 0\n",
      "**training**\n",
      "Game: 9, exploration: 0.98, score: 24 - avg score/100 games: 0\n",
      "**training**\n",
      "Game: 10, exploration: 0.97, score: 13 - avg score/100 games: 0\n",
      "**training**\n",
      "Game: 11, exploration: 0.97, score: 22 - avg score/100 games: 0\n",
      "**training**\n",
      "Game: 12, exploration: 0.96, score: 20 - avg score/100 games: 0\n",
      "**training**\n",
      "Game: 13, exploration: 0.96, score: 21 - avg score/100 games: 0\n",
      "**training**\n",
      "Game: 14, exploration: 0.95, score: 18 - avg score/100 games: 0\n",
      "**training**\n",
      "Game: 15, exploration: 0.95, score: 22 - avg score/100 games: 0\n",
      "**training**\n",
      "Game: 16, exploration: 0.94, score: 39 - avg score/100 games: 0\n",
      "**training**\n",
      "Game: 17, exploration: 0.94, score: 48 - avg score/100 games: 0\n",
      "**training**\n",
      "Game: 18, exploration: 0.93, score: 15 - avg score/100 games: 0\n",
      "**training**\n",
      "Game: 19, exploration: 0.93, score: 10 - avg score/100 games: 0\n",
      "**training**\n",
      "Game: 20, exploration: 0.92, score: 78 - avg score/100 games: 0\n",
      "**training**\n",
      "Game: 21, exploration: 0.92, score: 21 - avg score/100 games: 0\n",
      "**training**\n",
      "Game: 22, exploration: 0.91, score: 24 - avg score/100 games: 0\n",
      "**training**\n",
      "Game: 23, exploration: 0.91, score: 20 - avg score/100 games: 0\n",
      "**training**\n",
      "Game: 24, exploration: 0.9, score: 11 - avg score/100 games: 0\n",
      "**training**\n",
      "Game: 25, exploration: 0.9, score: 61 - avg score/100 games: 0\n",
      "**training**\n",
      "Game: 26, exploration: 0.9, score: 21 - avg score/100 games: 0\n",
      "**training**\n",
      "Game: 27, exploration: 0.89, score: 16 - avg score/100 games: 0\n",
      "**training**\n",
      "Game: 28, exploration: 0.89, score: 12 - avg score/100 games: 0\n",
      "**training**\n",
      "Game: 29, exploration: 0.88, score: 19 - avg score/100 games: 0\n",
      "**training**\n",
      "Game: 30, exploration: 0.88, score: 22 - avg score/100 games: 0\n",
      "**training**\n",
      "Game: 31, exploration: 0.87, score: 25 - avg score/100 games: 0\n",
      "**training**\n",
      "Game: 32, exploration: 0.87, score: 15 - avg score/100 games: 0\n",
      "**training**\n",
      "Game: 33, exploration: 0.86, score: 16 - avg score/100 games: 0\n",
      "**training**\n",
      "Game: 34, exploration: 0.86, score: 20 - avg score/100 games: 0\n",
      "**training**\n",
      "Game: 35, exploration: 0.86, score: 17 - avg score/100 games: 0\n",
      "**training**\n",
      "Game: 36, exploration: 0.85, score: 33 - avg score/100 games: 0\n",
      "**training**\n",
      "Game: 37, exploration: 0.85, score: 8 - avg score/100 games: 0\n",
      "**training**\n",
      "Game: 38, exploration: 0.84, score: 12 - avg score/100 games: 0\n",
      "**training**\n",
      "Game: 39, exploration: 0.84, score: 19 - avg score/100 games: 0\n",
      "**training**\n",
      "Game: 40, exploration: 0.83, score: 13 - avg score/100 games: 0\n",
      "**training**\n",
      "Game: 41, exploration: 0.83, score: 18 - avg score/100 games: 0\n",
      "**training**\n",
      "Game: 42, exploration: 0.83, score: 40 - avg score/100 games: 0\n",
      "**training**\n",
      "Game: 43, exploration: 0.82, score: 40 - avg score/100 games: 0\n",
      "**training**\n",
      "Game: 44, exploration: 0.82, score: 15 - avg score/100 games: 0\n",
      "**training**\n",
      "Game: 45, exploration: 0.81, score: 22 - avg score/100 games: 0\n",
      "**training**\n",
      "Game: 46, exploration: 0.81, score: 20 - avg score/100 games: 0\n",
      "**training**\n",
      "Game: 47, exploration: 0.81, score: 77 - avg score/100 games: 0\n",
      "**training**\n",
      "Game: 48, exploration: 0.8, score: 12 - avg score/100 games: 0\n",
      "**training**\n",
      "Game: 49, exploration: 0.8, score: 17 - avg score/100 games: 0\n",
      "**training**\n",
      "Game: 50, exploration: 0.79, score: 11 - avg score/100 games: 0\n",
      "**training**\n",
      "Game: 51, exploration: 0.79, score: 71 - avg score/100 games: 0\n",
      "**training**\n",
      "Game: 52, exploration: 0.79, score: 79 - avg score/100 games: 0\n",
      "**training**\n",
      "Game: 53, exploration: 0.78, score: 22 - avg score/100 games: 0\n",
      "**training**\n",
      "Game: 54, exploration: 0.78, score: 13 - avg score/100 games: 0\n",
      "**training**\n",
      "Game: 55, exploration: 0.77, score: 22 - avg score/100 games: 0\n",
      "**training**\n",
      "Game: 56, exploration: 0.77, score: 31 - avg score/100 games: 0\n",
      "**training**\n",
      "Game: 57, exploration: 0.77, score: 28 - avg score/100 games: 0\n",
      "**training**\n",
      "Game: 58, exploration: 0.76, score: 11 - avg score/100 games: 0\n",
      "**training**\n",
      "Game: 59, exploration: 0.76, score: 58 - avg score/100 games: 0\n",
      "**training**\n",
      "Game: 60, exploration: 0.76, score: 77 - avg score/100 games: 0\n",
      "**training**\n",
      "Game: 61, exploration: 0.75, score: 18 - avg score/100 games: 0\n",
      "**training**\n",
      "Game: 62, exploration: 0.75, score: 15 - avg score/100 games: 0\n",
      "**training**\n",
      "Game: 63, exploration: 0.74, score: 34 - avg score/100 games: 0\n",
      "**training**\n",
      "Game: 64, exploration: 0.74, score: 25 - avg score/100 games: 0\n",
      "**training**\n",
      "Game: 65, exploration: 0.74, score: 18 - avg score/100 games: 0\n",
      "**training**\n",
      "Game: 66, exploration: 0.73, score: 23 - avg score/100 games: 0\n",
      "**training**\n",
      "Game: 67, exploration: 0.73, score: 26 - avg score/100 games: 0\n",
      "**training**\n",
      "Game: 68, exploration: 0.73, score: 21 - avg score/100 games: 0\n",
      "**training**\n",
      "Game: 69, exploration: 0.72, score: 44 - avg score/100 games: 0\n",
      "**training**\n",
      "Game: 70, exploration: 0.72, score: 83 - avg score/100 games: 0\n",
      "**training**\n",
      "Game: 71, exploration: 0.71, score: 10 - avg score/100 games: 0\n",
      "**training**\n",
      "Game: 72, exploration: 0.71, score: 31 - avg score/100 games: 0\n",
      "**training**\n",
      "Game: 73, exploration: 0.71, score: 33 - avg score/100 games: 0\n",
      "**training**\n",
      "Game: 74, exploration: 0.7, score: 15 - avg score/100 games: 0\n",
      "**training**\n",
      "Game: 75, exploration: 0.7, score: 50 - avg score/100 games: 0\n",
      "**training**\n",
      "Game: 76, exploration: 0.7, score: 32 - avg score/100 games: 0\n",
      "**training**\n",
      "Game: 77, exploration: 0.69, score: 75 - avg score/100 games: 0\n",
      "**training**\n",
      "Game: 78, exploration: 0.69, score: 30 - avg score/100 games: 0\n",
      "**training**\n",
      "Game: 79, exploration: 0.69, score: 62 - avg score/100 games: 0\n",
      "**training**\n",
      "Game: 80, exploration: 0.68, score: 23 - avg score/100 games: 0\n",
      "**training**\n",
      "Game: 81, exploration: 0.68, score: 27 - avg score/100 games: 0\n",
      "**training**\n",
      "Game: 82, exploration: 0.68, score: 11 - avg score/100 games: 0\n",
      "**training**\n",
      "Game: 83, exploration: 0.67, score: 40 - avg score/100 games: 0\n",
      "**training**\n",
      "Game: 84, exploration: 0.67, score: 26 - avg score/100 games: 0\n",
      "**training**\n",
      "Game: 85, exploration: 0.67, score: 29 - avg score/100 games: 0\n",
      "**training**\n",
      "Game: 86, exploration: 0.66, score: 64 - avg score/100 games: 0\n",
      "**training**\n",
      "Game: 87, exploration: 0.66, score: 92 - avg score/100 games: 0\n",
      "**training**\n",
      "Game: 88, exploration: 0.66, score: 59 - avg score/100 games: 0\n",
      "**training**\n",
      "Game: 89, exploration: 0.65, score: 40 - avg score/100 games: 0\n",
      "**training**\n",
      "Game: 90, exploration: 0.65, score: 43 - avg score/100 games: 0\n",
      "**training**\n",
      "Game: 91, exploration: 0.65, score: 41 - avg score/100 games: 0\n",
      "**training**\n",
      "Game: 92, exploration: 0.64, score: 47 - avg score/100 games: 0\n",
      "**training**\n",
      "Game: 93, exploration: 0.64, score: 73 - avg score/100 games: 0\n",
      "**training**\n",
      "Game: 94, exploration: 0.64, score: 57 - avg score/100 games: 0\n",
      "**training**\n",
      "Game: 95, exploration: 0.63, score: 11 - avg score/100 games: 0\n",
      "**training**\n",
      "Game: 96, exploration: 0.63, score: 69 - avg score/100 games: 0\n",
      "**training**\n",
      "Game: 97, exploration: 0.63, score: 51 - avg score/100 games: 0\n",
      "**training**\n",
      "Game: 98, exploration: 0.62, score: 111 - avg score/100 games: 0\n",
      "**training**\n",
      "Game: 99, exploration: 0.62, score: 23 - avg score/100 games: 31.45\n",
      "**training**\n",
      "Game: 100, exploration: 0.62, score: 63 - avg score/100 games: 31.91\n",
      "**training**\n",
      "Game: 101, exploration: 0.61, score: 11 - avg score/100 games: 31.86\n",
      "**training**\n",
      "Game: 102, exploration: 0.61, score: 36 - avg score/100 games: 32.07\n",
      "**training**\n",
      "Game: 103, exploration: 0.61, score: 47 - avg score/100 games: 32.45\n",
      "**training**\n"
     ]
    },
    {
     "name": "stdout",
     "output_type": "stream",
     "text": [
      "Game: 104, exploration: 0.61, score: 35 - avg score/100 games: 32.67\n",
      "**training**\n",
      "Game: 105, exploration: 0.6, score: 148 - avg score/100 games: 33.99\n",
      "**training**\n",
      "Game: 106, exploration: 0.6, score: 30 - avg score/100 games: 34.09\n",
      "**training**\n",
      "Game: 107, exploration: 0.6, score: 37 - avg score/100 games: 34.2\n",
      "**training**\n",
      "Game: 108, exploration: 0.59, score: 54 - avg score/100 games: 34.62\n",
      "**training**\n",
      "Game: 109, exploration: 0.59, score: 87 - avg score/100 games: 35.25\n",
      "**training**\n",
      "Game: 110, exploration: 0.59, score: 100 - avg score/100 games: 36.12\n",
      "**training**\n",
      "Game: 111, exploration: 0.58, score: 77 - avg score/100 games: 36.67\n",
      "**training**\n",
      "Game: 112, exploration: 0.58, score: 68 - avg score/100 games: 37.15\n",
      "**training**\n",
      "Game: 113, exploration: 0.58, score: 22 - avg score/100 games: 37.16\n",
      "**training**\n",
      "Game: 114, exploration: 0.58, score: 11 - avg score/100 games: 37.09\n",
      "**training**\n",
      "Game: 115, exploration: 0.57, score: 20 - avg score/100 games: 37.07\n",
      "**training**\n",
      "Game: 116, exploration: 0.57, score: 39 - avg score/100 games: 37.07\n",
      "**training**\n",
      "Game: 117, exploration: 0.57, score: 113 - avg score/100 games: 37.72\n",
      "**training**\n",
      "Game: 118, exploration: 0.56, score: 16 - avg score/100 games: 37.73\n",
      "**training**\n",
      "Game: 119, exploration: 0.56, score: 12 - avg score/100 games: 37.75\n",
      "**training**\n",
      "Game: 120, exploration: 0.56, score: 41 - avg score/100 games: 37.38\n",
      "**training**\n",
      "Game: 121, exploration: 0.56, score: 168 - avg score/100 games: 38.85\n",
      "**training**\n",
      "Game: 122, exploration: 0.55, score: 41 - avg score/100 games: 39.02\n",
      "**training**\n",
      "Game: 123, exploration: 0.55, score: 60 - avg score/100 games: 39.42\n",
      "**training**\n",
      "Game: 124, exploration: 0.55, score: 114 - avg score/100 games: 40.45\n",
      "**training**\n",
      "Game: 125, exploration: 0.55, score: 127 - avg score/100 games: 41.11\n",
      "**training**\n",
      "Game: 126, exploration: 0.54, score: 120 - avg score/100 games: 42.1\n",
      "**training**\n",
      "Game: 127, exploration: 0.54, score: 134 - avg score/100 games: 43.28\n",
      "**training**\n",
      "Game: 128, exploration: 0.54, score: 56 - avg score/100 games: 43.72\n",
      "**training**\n",
      "Game: 129, exploration: 0.53, score: 35 - avg score/100 games: 43.88\n",
      "**training**\n",
      "Game: 130, exploration: 0.53, score: 20 - avg score/100 games: 43.86\n",
      "**training**\n",
      "Game: 131, exploration: 0.53, score: 156 - avg score/100 games: 45.17\n",
      "**training**\n",
      "Game: 132, exploration: 0.53, score: 82 - avg score/100 games: 45.84\n",
      "**training**\n",
      "Game: 133, exploration: 0.52, score: 254 - avg score/100 games: 48.22\n",
      "**training**\n",
      "Game: 134, exploration: 0.52, score: 40 - avg score/100 games: 48.42\n",
      "**training**\n",
      "Game: 135, exploration: 0.52, score: 110 - avg score/100 games: 49.35\n",
      "**training**\n",
      "Game: 136, exploration: 0.52, score: 17 - avg score/100 games: 49.19\n",
      "**training**\n",
      "Game: 137, exploration: 0.51, score: 221 - avg score/100 games: 51.32\n",
      "**training**\n",
      "Game: 138, exploration: 0.51, score: 121 - avg score/100 games: 52.41\n",
      "**training**\n",
      "Game: 139, exploration: 0.51, score: 68 - avg score/100 games: 52.9\n",
      "**training**\n",
      "Game: 140, exploration: 0.51, score: 118 - avg score/100 games: 53.95\n",
      "**training**\n",
      "Game: 141, exploration: 0.5, score: 76 - avg score/100 games: 54.53\n",
      "**training**\n",
      "Game: 142, exploration: 0.5, score: 150 - avg score/100 games: 55.63\n",
      "**training**\n",
      "Game: 143, exploration: 0.5, score: 102 - avg score/100 games: 56.25\n",
      "**training**\n",
      "Game: 144, exploration: 0.5, score: 202 - avg score/100 games: 58.12\n",
      "**training**\n",
      "Game: 145, exploration: 0.49, score: 62 - avg score/100 games: 58.52\n",
      "**training**\n",
      "Game: 146, exploration: 0.49, score: 43 - avg score/100 games: 58.75\n",
      "**training**\n",
      "Game: 147, exploration: 0.49, score: 93 - avg score/100 games: 58.91\n",
      "**training**\n",
      "Game: 148, exploration: 0.49, score: 71 - avg score/100 games: 59.5\n",
      "**training**\n",
      "Game: 149, exploration: 0.48, score: 137 - avg score/100 games: 60.7\n",
      "**training**\n",
      "Game: 150, exploration: 0.48, score: 12 - avg score/100 games: 60.71\n",
      "**training**\n",
      "Game: 151, exploration: 0.48, score: 192 - avg score/100 games: 61.92\n",
      "**training**\n",
      "Game: 152, exploration: 0.48, score: 52 - avg score/100 games: 61.65\n",
      "**training**\n",
      "Game: 153, exploration: 0.47, score: 67 - avg score/100 games: 62.1\n",
      "**training**\n",
      "Game: 154, exploration: 0.47, score: 74 - avg score/100 games: 62.71\n",
      "**training**\n",
      "Game: 155, exploration: 0.47, score: 210 - avg score/100 games: 64.59\n",
      "**training**\n",
      "Game: 156, exploration: 0.47, score: 201 - avg score/100 games: 66.29\n",
      "**training**\n",
      "Game: 157, exploration: 0.46, score: 183 - avg score/100 games: 67.84\n",
      "**training**\n",
      "Game: 158, exploration: 0.46, score: 90 - avg score/100 games: 68.63\n",
      "**training**\n",
      "Game: 159, exploration: 0.46, score: 101 - avg score/100 games: 69.06\n",
      "**training**\n",
      "Game: 160, exploration: 0.46, score: 197 - avg score/100 games: 70.26\n",
      "**training**\n",
      "Game: 161, exploration: 0.46, score: 140 - avg score/100 games: 71.48\n",
      "**training**\n",
      "Game: 162, exploration: 0.45, score: 35 - avg score/100 games: 71.68\n",
      "**training**\n",
      "Game: 163, exploration: 0.45, score: 223 - avg score/100 games: 73.57\n",
      "**training**\n",
      "Game: 164, exploration: 0.45, score: 66 - avg score/100 games: 73.98\n",
      "**training**\n",
      "Game: 165, exploration: 0.45, score: 224 - avg score/100 games: 76.04\n",
      "**training**\n",
      "Game: 166, exploration: 0.44, score: 82 - avg score/100 games: 76.63\n",
      "**training**\n",
      "Game: 167, exploration: 0.44, score: 56 - avg score/100 games: 76.93\n",
      "**training**\n",
      "Game: 168, exploration: 0.44, score: 154 - avg score/100 games: 78.26\n",
      "**training**\n",
      "Game: 169, exploration: 0.44, score: 80 - avg score/100 games: 78.62\n",
      "**training**\n",
      "Game: 170, exploration: 0.44, score: 171 - avg score/100 games: 79.5\n",
      "**training**\n",
      "Game: 171, exploration: 0.43, score: 55 - avg score/100 games: 79.95\n",
      "**training**\n",
      "Game: 172, exploration: 0.43, score: 112 - avg score/100 games: 80.76\n",
      "**training**\n",
      "Game: 173, exploration: 0.43, score: 111 - avg score/100 games: 81.54\n",
      "**training**\n",
      "Game: 174, exploration: 0.43, score: 268 - avg score/100 games: 84.07\n",
      "**training**\n",
      "Game: 175, exploration: 0.42, score: 79 - avg score/100 games: 84.36\n",
      "**training**\n",
      "Game: 176, exploration: 0.42, score: 159 - avg score/100 games: 85.63\n",
      "**training**\n",
      "Game: 177, exploration: 0.42, score: 106 - avg score/100 games: 85.94\n",
      "**training**\n",
      "Game: 178, exploration: 0.42, score: 152 - avg score/100 games: 87.16\n",
      "**training**\n",
      "Game: 179, exploration: 0.42, score: 91 - avg score/100 games: 87.45\n",
      "**training**\n",
      "Game: 180, exploration: 0.41, score: 77 - avg score/100 games: 87.99\n",
      "**training**\n",
      "Game: 181, exploration: 0.41, score: 175 - avg score/100 games: 89.47\n",
      "**training**\n",
      "Game: 182, exploration: 0.41, score: 43 - avg score/100 games: 89.79\n",
      "**training**\n",
      "Game: 183, exploration: 0.41, score: 33 - avg score/100 games: 89.72\n",
      "**training**\n",
      "Game: 184, exploration: 0.41, score: 348 - avg score/100 games: 92.94\n",
      "**training**\n",
      "Game: 185, exploration: 0.4, score: 97 - avg score/100 games: 93.62\n",
      "**training**\n",
      "Game: 186, exploration: 0.4, score: 277 - avg score/100 games: 95.75\n",
      "**training**\n",
      "Game: 187, exploration: 0.4, score: 181 - avg score/100 games: 96.64\n",
      "**training**\n",
      "Game: 188, exploration: 0.4, score: 491 - avg score/100 games: 100.96\n",
      "**training**\n",
      "Game: 189, exploration: 0.4, score: 11 - avg score/100 games: 100.67\n",
      "**training**\n",
      "Game: 190, exploration: 0.39, score: 251 - avg score/100 games: 102.75\n",
      "**training**\n",
      "Game: 191, exploration: 0.39, score: 77 - avg score/100 games: 103.11\n",
      "**training**\n",
      "Game: 192, exploration: 0.39, score: 413 - avg score/100 games: 106.77\n",
      "**training**\n",
      "Game: 193, exploration: 0.39, score: 121 - avg score/100 games: 107.25\n",
      "**training**\n",
      "Game: 194, exploration: 0.39, score: 228 - avg score/100 games: 108.96\n",
      "**training**\n",
      "Game: 195, exploration: 0.38, score: 295 - avg score/100 games: 111.8\n",
      "**training**\n",
      "Game: 196, exploration: 0.38, score: 415 - avg score/100 games: 115.26\n",
      "**training**\n",
      "Game: 197, exploration: 0.38, score: 220 - avg score/100 games: 116.95\n",
      "**training**\n",
      "Game: 198, exploration: 0.38, score: 287 - avg score/100 games: 118.71\n",
      "**training**\n",
      "Game: 199, exploration: 0.38, score: 357 - avg score/100 games: 122.05\n",
      "**training**\n",
      "Game: 200, exploration: 0.37, score: 265 - avg score/100 games: 124.07\n",
      "**training**\n",
      "Game: 201, exploration: 0.37, score: 356 - avg score/100 games: 127.52\n",
      "**training**\n",
      "Game: 202, exploration: 0.37, score: 253 - avg score/100 games: 129.69\n",
      "**training**\n",
      "Game: 203, exploration: 0.37, score: 299 - avg score/100 games: 132.21\n",
      "**training**\n"
     ]
    },
    {
     "name": "stdout",
     "output_type": "stream",
     "text": [
      "Game: 204, exploration: 0.37, score: 126 - avg score/100 games: 133.12\n",
      "**training**\n",
      "Game: 205, exploration: 0.37, score: 250 - avg score/100 games: 134.14\n",
      "**training**\n",
      "Game: 206, exploration: 0.36, score: 140 - avg score/100 games: 135.24\n",
      "**training**\n",
      "Game: 207, exploration: 0.36, score: 154 - avg score/100 games: 136.41\n",
      "**training**\n",
      "Game: 208, exploration: 0.36, score: 115 - avg score/100 games: 137.02\n",
      "**training**\n",
      "Game: 209, exploration: 0.36, score: 214 - avg score/100 games: 138.29\n",
      "**training**\n",
      "Game: 210, exploration: 0.36, score: 190 - avg score/100 games: 139.19\n",
      "**training**\n",
      "Game: 211, exploration: 0.35, score: 217 - avg score/100 games: 140.59\n",
      "**training**\n",
      "Game: 212, exploration: 0.35, score: 90 - avg score/100 games: 140.81\n",
      "**training**\n",
      "Game: 213, exploration: 0.35, score: 218 - avg score/100 games: 142.77\n",
      "**training**\n",
      "Game: 214, exploration: 0.35, score: 194 - avg score/100 games: 144.6\n",
      "**training**\n",
      "Game: 215, exploration: 0.35, score: 33 - avg score/100 games: 144.73\n",
      "**training**\n",
      "Game: 216, exploration: 0.35, score: 233 - avg score/100 games: 146.67\n",
      "**training**\n",
      "Game: 217, exploration: 0.34, score: 217 - avg score/100 games: 147.71\n",
      "**training**\n",
      "Game: 218, exploration: 0.34, score: 228 - avg score/100 games: 149.83\n",
      "**training**\n",
      "Game: 219, exploration: 0.34, score: 24 - avg score/100 games: 149.95\n",
      "**training**\n",
      "Game: 220, exploration: 0.34, score: 388 - avg score/100 games: 153.42\n",
      "**training**\n",
      "Game: 221, exploration: 0.34, score: 250 - avg score/100 games: 154.24\n",
      "**training**\n",
      "Game: 222, exploration: 0.34, score: 200 - avg score/100 games: 155.83\n",
      "**training**\n",
      "Game: 223, exploration: 0.33, score: 184 - avg score/100 games: 157.07\n",
      "**training**\n",
      "Game: 224, exploration: 0.33, score: 175 - avg score/100 games: 157.68\n",
      "**training**\n",
      "Game: 225, exploration: 0.33, score: 192 - avg score/100 games: 158.33\n",
      "**training**\n",
      "Game: 226, exploration: 0.33, score: 167 - avg score/100 games: 158.8\n",
      "**training**\n",
      "Game: 227, exploration: 0.33, score: 189 - avg score/100 games: 159.35\n",
      "**training**\n",
      "Game: 228, exploration: 0.33, score: 179 - avg score/100 games: 160.58\n",
      "**training**\n",
      "Game: 229, exploration: 0.32, score: 119 - avg score/100 games: 161.42\n",
      "**training**\n",
      "Game: 230, exploration: 0.32, score: 100 - avg score/100 games: 162.22\n",
      "**training**\n",
      "Game: 231, exploration: 0.32, score: 150 - avg score/100 games: 162.16\n",
      "**training**\n",
      "Game: 232, exploration: 0.32, score: 195 - avg score/100 games: 163.29\n",
      "**training**\n",
      "Game: 233, exploration: 0.32, score: 214 - avg score/100 games: 162.89\n",
      "**training**\n",
      "Game: 234, exploration: 0.32, score: 69 - avg score/100 games: 163.18\n",
      "**training**\n",
      "Game: 235, exploration: 0.31, score: 214 - avg score/100 games: 164.22\n",
      "**training**\n",
      "Game: 236, exploration: 0.31, score: 268 - avg score/100 games: 166.73\n",
      "**training**\n",
      "Game: 237, exploration: 0.31, score: 267 - avg score/100 games: 167.19\n",
      "**training**\n",
      "Game: 238, exploration: 0.31, score: 104 - avg score/100 games: 167.02\n",
      "**training**\n",
      "Game: 239, exploration: 0.31, score: 133 - avg score/100 games: 167.67\n",
      "**training**\n",
      "Game: 240, exploration: 0.31, score: 538 - avg score/100 games: 171.87\n",
      "**training**\n",
      "Game: 241, exploration: 0.3, score: 999 - avg score/100 games: 181.1\n",
      "**training**\n",
      "Game: 242, exploration: 0.3, score: 531 - avg score/100 games: 184.91\n",
      "**training**\n",
      "Game: 243, exploration: 0.3, score: 206 - avg score/100 games: 185.95\n",
      "**training**\n",
      "Game: 244, exploration: 0.3, score: 381 - avg score/100 games: 187.74\n",
      "**training**\n",
      "Game: 245, exploration: 0.3, score: 221 - avg score/100 games: 189.33\n",
      "**training**\n",
      "Game: 246, exploration: 0.3, score: 242 - avg score/100 games: 191.32\n",
      "**training**\n",
      "Game: 247, exploration: 0.3, score: 999 - avg score/100 games: 200.38\n",
      "**training**\n",
      "Game: 248, exploration: 0.29, score: 461 - avg score/100 games: 204.28\n",
      "**training**\n",
      "Game: 249, exploration: 0.29, score: 345 - avg score/100 games: 206.36\n",
      "**training**\n",
      "Game: 250, exploration: 0.29, score: 999 - avg score/100 games: 216.23\n",
      "**training**\n",
      "Game: 251, exploration: 0.29, score: 372 - avg score/100 games: 218.03\n",
      "**training**\n",
      "Game: 252, exploration: 0.29, score: 48 - avg score/100 games: 217.99\n",
      "**training**\n",
      "Game: 253, exploration: 0.29, score: 14 - avg score/100 games: 217.46\n",
      "**training**\n",
      "Game: 254, exploration: 0.29, score: 154 - avg score/100 games: 218.26\n",
      "**training**\n",
      "Game: 255, exploration: 0.28, score: 336 - avg score/100 games: 219.52\n",
      "**training**\n",
      "Game: 256, exploration: 0.28, score: 66 - avg score/100 games: 218.17\n",
      "**training**\n",
      "Game: 257, exploration: 0.28, score: 432 - avg score/100 games: 220.66\n",
      "**training**\n",
      "Game: 258, exploration: 0.28, score: 433 - avg score/100 games: 224.09\n",
      "**training**\n",
      "Game: 259, exploration: 0.28, score: 451 - avg score/100 games: 227.59\n",
      "**training**\n",
      "Game: 260, exploration: 0.28, score: 999 - avg score/100 games: 235.61\n",
      "**training**\n",
      "Game: 261, exploration: 0.28, score: 685 - avg score/100 games: 241.06\n",
      "**training**\n",
      "Game: 262, exploration: 0.27, score: 324 - avg score/100 games: 243.95\n",
      "**training**\n",
      "Game: 263, exploration: 0.27, score: 483 - avg score/100 games: 246.55\n",
      "**training**\n",
      "Game: 264, exploration: 0.27, score: 575 - avg score/100 games: 251.64\n",
      "**training**\n",
      "Game: 265, exploration: 0.27, score: 273 - avg score/100 games: 252.13\n",
      "**training**\n",
      "Game: 266, exploration: 0.27, score: 206 - avg score/100 games: 253.37\n",
      "**training**\n",
      "Game: 267, exploration: 0.27, score: 999 - avg score/100 games: 262.8\n",
      "**training**\n",
      "Game: 268, exploration: 0.27, score: 300 - avg score/100 games: 264.26\n",
      "**training**\n",
      "Game: 269, exploration: 0.26, score: 999 - avg score/100 games: 273.45\n",
      "**training**\n",
      "Game: 270, exploration: 0.26, score: 462 - avg score/100 games: 276.36\n",
      "**training**\n",
      "Game: 271, exploration: 0.26, score: 660 - avg score/100 games: 282.41\n",
      "**training**\n",
      "Game: 272, exploration: 0.26, score: 548 - avg score/100 games: 286.77\n",
      "**training**\n",
      "Game: 273, exploration: 0.26, score: 999 - avg score/100 games: 295.65\n",
      "**training**\n",
      "Game: 274, exploration: 0.26, score: 362 - avg score/100 games: 296.59\n",
      "**training**\n",
      "Game: 275, exploration: 0.26, score: 999 - avg score/100 games: 305.79\n",
      "**training**\n",
      "Game: 276, exploration: 0.26, score: 999 - avg score/100 games: 314.19\n",
      "**training**\n",
      "Game: 277, exploration: 0.25, score: 187 - avg score/100 games: 315.0\n",
      "**training**\n",
      "Game: 278, exploration: 0.25, score: 231 - avg score/100 games: 315.79\n",
      "**training**\n",
      "Game: 279, exploration: 0.25, score: 839 - avg score/100 games: 323.27\n",
      "**training**\n",
      "Game: 280, exploration: 0.25, score: 999 - avg score/100 games: 332.49\n",
      "**training**\n",
      "Game: 281, exploration: 0.25, score: 999 - avg score/100 games: 340.73\n",
      "**training**\n",
      "Game: 282, exploration: 0.25, score: 999 - avg score/100 games: 350.29\n",
      "**training**\n",
      "Game: 283, exploration: 0.25, score: 999 - avg score/100 games: 359.95\n",
      "**training**\n",
      "Game: 284, exploration: 0.25, score: 999 - avg score/100 games: 366.46\n",
      "**training**\n",
      "Game: 285, exploration: 0.24, score: 755 - avg score/100 games: 373.04\n",
      "**training**\n",
      "Game: 286, exploration: 0.24, score: 999 - avg score/100 games: 380.26\n",
      "**training**\n",
      "Game: 287, exploration: 0.24, score: 728 - avg score/100 games: 385.73\n",
      "**training**\n",
      "Game: 288, exploration: 0.24, score: 716 - avg score/100 games: 387.98\n",
      "**training**\n",
      "Game: 289, exploration: 0.24, score: 916 - avg score/100 games: 397.03\n",
      "**training**\n",
      "Game: 290, exploration: 0.24, score: 101 - avg score/100 games: 395.53\n",
      "**training**\n",
      "Game: 291, exploration: 0.24, score: 999 - avg score/100 games: 404.75\n",
      "**training**\n",
      "Game: 292, exploration: 0.24, score: 43 - avg score/100 games: 401.05\n",
      "**training**\n",
      "Game: 293, exploration: 0.23, score: 999 - avg score/100 games: 409.83\n",
      "**training**\n",
      "Game: 294, exploration: 0.23, score: 991 - avg score/100 games: 417.46\n",
      "**training**\n",
      "Game: 295, exploration: 0.23, score: 77 - avg score/100 games: 415.28\n",
      "**training**\n",
      "Game: 296, exploration: 0.23, score: 719 - avg score/100 games: 418.32\n",
      "**training**\n",
      "Game: 297, exploration: 0.23, score: 32 - avg score/100 games: 416.44\n",
      "**training**\n",
      "Game: 298, exploration: 0.23, score: 43 - avg score/100 games: 414.0\n",
      "**training**\n",
      "Game: 299, exploration: 0.23, score: 33 - avg score/100 games: 410.76\n",
      "**training**\n",
      "Game: 300, exploration: 0.23, score: 19 - avg score/100 games: 408.3\n",
      "**training**\n",
      "Game: 301, exploration: 0.23, score: 52 - avg score/100 games: 405.26\n",
      "**training**\n"
     ]
    },
    {
     "name": "stdout",
     "output_type": "stream",
     "text": [
      "Game: 302, exploration: 0.22, score: 154 - avg score/100 games: 404.27\n",
      "**training**\n",
      "Game: 303, exploration: 0.22, score: 37 - avg score/100 games: 401.65\n",
      "**training**\n",
      "Game: 304, exploration: 0.22, score: 54 - avg score/100 games: 400.93\n",
      "**training**\n",
      "Game: 305, exploration: 0.22, score: 43 - avg score/100 games: 398.86\n",
      "**training**\n",
      "Game: 306, exploration: 0.22, score: 116 - avg score/100 games: 398.62\n",
      "**training**\n",
      "Game: 307, exploration: 0.22, score: 84 - avg score/100 games: 397.92\n",
      "**training**\n",
      "Game: 308, exploration: 0.22, score: 107 - avg score/100 games: 397.84\n",
      "**training**\n",
      "Game: 309, exploration: 0.22, score: 49 - avg score/100 games: 396.19\n",
      "**training**\n",
      "Game: 310, exploration: 0.22, score: 26 - avg score/100 games: 394.55\n",
      "**training**\n",
      "Game: 311, exploration: 0.21, score: 667 - avg score/100 games: 399.05\n",
      "**training**\n",
      "Game: 312, exploration: 0.21, score: 205 - avg score/100 games: 400.2\n",
      "**training**\n",
      "Game: 313, exploration: 0.21, score: 982 - avg score/100 games: 407.84\n",
      "**training**\n",
      "Game: 314, exploration: 0.21, score: 999 - avg score/100 games: 415.89\n",
      "**training**\n",
      "Game: 315, exploration: 0.21, score: 999 - avg score/100 games: 425.55\n",
      "**training**\n",
      "Game: 316, exploration: 0.21, score: 530 - avg score/100 games: 428.52\n",
      "**training**\n",
      "Game: 317, exploration: 0.21, score: 999 - avg score/100 games: 436.34\n",
      "**training**\n",
      "Game: 318, exploration: 0.21, score: 492 - avg score/100 games: 438.98\n",
      "**training**\n",
      "Game: 319, exploration: 0.21, score: 999 - avg score/100 games: 448.73\n",
      "**training**\n",
      "Game: 320, exploration: 0.21, score: 999 - avg score/100 games: 454.84\n",
      "**training**\n",
      "Game: 321, exploration: 0.2, score: 999 - avg score/100 games: 462.33\n",
      "**training**\n",
      "Game: 322, exploration: 0.2, score: 999 - avg score/100 games: 470.32\n",
      "**training**\n",
      "Game: 323, exploration: 0.2, score: 999 - avg score/100 games: 478.47\n",
      "**training**\n",
      "Game: 324, exploration: 0.2, score: 248 - avg score/100 games: 479.2\n",
      "**training**\n",
      "Game: 325, exploration: 0.2, score: 653 - avg score/100 games: 483.81\n",
      "**training**\n",
      "Game: 326, exploration: 0.2, score: 213 - avg score/100 games: 484.27\n",
      "**training**\n",
      "Game: 327, exploration: 0.2, score: 128 - avg score/100 games: 483.66\n",
      "**training**\n",
      "Game: 328, exploration: 0.2, score: 346 - avg score/100 games: 485.33\n",
      "**training**\n",
      "Game: 329, exploration: 0.2, score: 543 - avg score/100 games: 489.57\n",
      "**training**\n",
      "Game: 330, exploration: 0.2, score: 814 - avg score/100 games: 496.71\n",
      "**training**\n",
      "Game: 331, exploration: 0.19, score: 13 - avg score/100 games: 495.34\n",
      "**training**\n",
      "Game: 332, exploration: 0.19, score: 12 - avg score/100 games: 493.51\n",
      "**training**\n",
      "Game: 333, exploration: 0.19, score: 300 - avg score/100 games: 494.37\n",
      "**training**\n",
      "Game: 334, exploration: 0.19, score: 92 - avg score/100 games: 494.6\n",
      "**training**\n",
      "Game: 335, exploration: 0.19, score: 13 - avg score/100 games: 492.59\n",
      "**training**\n",
      "Game: 336, exploration: 0.19, score: 328 - avg score/100 games: 493.19\n",
      "**training**\n",
      "Game: 337, exploration: 0.19, score: 302 - avg score/100 games: 493.54\n",
      "**training**\n",
      "Game: 338, exploration: 0.19, score: 276 - avg score/100 games: 495.26\n",
      "**training**\n",
      "Game: 339, exploration: 0.19, score: 302 - avg score/100 games: 496.95\n",
      "**training**\n",
      "Game: 340, exploration: 0.19, score: 298 - avg score/100 games: 494.55\n",
      "**training**\n",
      "Game: 341, exploration: 0.18, score: 359 - avg score/100 games: 488.15\n",
      "**training**\n",
      "Game: 342, exploration: 0.18, score: 10 - avg score/100 games: 482.94\n",
      "**training**\n",
      "Game: 343, exploration: 0.18, score: 14 - avg score/100 games: 481.02\n",
      "**training**\n",
      "Game: 344, exploration: 0.18, score: 307 - avg score/100 games: 480.28\n",
      "**training**\n",
      "Game: 345, exploration: 0.18, score: 407 - avg score/100 games: 482.14\n",
      "**training**\n",
      "Game: 346, exploration: 0.18, score: 343 - avg score/100 games: 483.15\n",
      "**training**\n",
      "Game: 347, exploration: 0.18, score: 405 - avg score/100 games: 477.21\n",
      "**training**\n",
      "Game: 348, exploration: 0.18, score: 418 - avg score/100 games: 476.78\n",
      "**training**\n",
      "Game: 349, exploration: 0.18, score: 421 - avg score/100 games: 477.54\n",
      "**training**\n",
      "Game: 350, exploration: 0.18, score: 417 - avg score/100 games: 471.72\n",
      "**training**\n",
      "Game: 351, exploration: 0.18, score: 885 - avg score/100 games: 476.85\n",
      "**training**\n",
      "Game: 352, exploration: 0.17, score: 95 - avg score/100 games: 477.32\n",
      "**training**\n",
      "Game: 353, exploration: 0.17, score: 638 - avg score/100 games: 483.56\n",
      "**training**\n",
      "Game: 354, exploration: 0.17, score: 446 - avg score/100 games: 486.48\n",
      "**training**\n",
      "Game: 355, exploration: 0.17, score: 547 - avg score/100 games: 488.59\n",
      "**training**\n",
      "Game: 356, exploration: 0.17, score: 890 - avg score/100 games: 496.83\n",
      "**training**\n",
      "Game: 357, exploration: 0.17, score: 604 - avg score/100 games: 498.55\n",
      "**training**\n",
      "Game: 358, exploration: 0.17, score: 581 - avg score/100 games: 500.03\n",
      "Completed after 358 games - Averaging over 500points per 100 games\n",
      "--- 1377.7224941253662 seconds ---\n"
     ]
    }
   ],
   "source": [
    "start_time = time.time()\n",
    "scores = []\n",
    "avgs = []\n",
    "for game in range(n_games):\n",
    "    ## Each game, we need to reset the environment, grab the intial state and preprocess it\n",
    "    state = env.reset()\n",
    "    state = preprocess_state(state)\n",
    "\n",
    "    for t in range(n_steps):\n",
    "        ## After each move, we need to do the following:\n",
    "        ## 1) render the environment\n",
    "        ## 2) decide on an action for this turn\n",
    "        ## 3) perform that action, grabbing the next state, reward, 'done' flag, and 'info' object\n",
    "        ## 4) preprocess the next state\n",
    "        ## 5) remember this experience\n",
    "        ## 6) set state=next_state to prepare for the next round\n",
    "        ## 7) check if game is done. if so, record the score,\n",
    "        ##    calculate the rolling average score (average score per last 100 games),\n",
    "        ##    store the rolling average\n",
    "        ## 8) check if average score goal has been reached, if so break out of game loop\n",
    "        ## 9) if we need to keep playing, perform experience replay\n",
    "        env.render()\n",
    "        action = choose_action(state)\n",
    "        next_state, reward, done, info = env.step(action)\n",
    "        next_state = preprocess_state(next_state)\n",
    "        remember(state, action, reward, next_state, done)\n",
    "        state = next_state\n",
    "        if done:\n",
    "            scores.append(t)\n",
    "            if len(scores)>=100:\n",
    "                avg_100 = np.mean(scores[-100:])\n",
    "            else:\n",
    "                avg_100 = 0\n",
    "            avgs.append(avg_100)\n",
    "            print (\"Game: \" + str(game) + \", exploration: \" + str(round(epsilon,2)) + \", score: \" + str(t) + ' - avg score/100 games: ' + str(avg_100))\n",
    "            break\n",
    "    if avg_100 >= score_goal:\n",
    "        print('Completed after ' + str(game) + ' games - Averaging over ' + str(score_goal) + 'points per 100 games')\n",
    "        break\n",
    "    experience_replay()\n",
    "env.close()\n",
    "print(\"--- %s seconds ---\" % (time.time() - start_time))"
   ]
  },
  {
   "cell_type": "markdown",
   "metadata": {},
   "source": [
    "Now that training is finished, let's plot the rolling average scores to see how the agent improved over time."
   ]
  },
  {
   "cell_type": "code",
   "execution_count": 37,
   "metadata": {},
   "outputs": [
    {
     "data": {
      "text/plain": [
       "Text(0, 0.5, 'Score')"
      ]
     },
     "execution_count": 37,
     "metadata": {},
     "output_type": "execute_result"
    },
    {
     "data": {
      "image/png": "[encoded data removed]",
      "text/plain": [
       "<Figure size 432x288 with 1 Axes>"
      ]
     },
     "metadata": {
      "needs_background": "light"
     },
     "output_type": "display_data"
    }
   ],
   "source": [
    "plt.plot(avgs)\n",
    "plt.title('Average score per 100 games')\n",
    "plt.xlabel('Games (x100)')\n",
    "plt.ylabel('Score')"
   ]
  },
  {
   "cell_type": "markdown",
   "metadata": {},
   "source": [
    "## Summary\n",
    "Congratulations! You just trained your first RL model! After completing the rite of passage that is CartPole. <br><br>\n",
    "You are now eligible to try out other environments. \n",
    "A word of caution though - the Atari games may be the most exciting and enticing environments to train in, but they may take several days of training before convergence. They also may involve image data and the use of Convolutional Neural Networks so make sure you are comfortable with those first."
   ]
  },
  {
   "cell_type": "markdown",
   "metadata": {},
   "source": [
    "Finally, we can do a quick comparison of baseline CartPole vs our trained CartPole agent.\n",
    "<br><br>\n",
    "These blocks will run both a random agent and our trained agent for 3 games. It also adds a small delay at each step so that you can watch both agents in action."
   ]
  },
  {
   "cell_type": "code",
   "execution_count": 54,
   "metadata": {},
   "outputs": [
    {
     "name": "stdout",
     "output_type": "stream",
     "text": [
      "Game 0 score: 19\n",
      "Game 1 score: 39\n",
      "Game 2 score: 14\n"
     ]
    }
   ],
   "source": [
    "## Random Agent\n",
    "n_games = 3\n",
    "n_steps = 1000\n",
    "scores = []\n",
    "for game in range(n_games):\n",
    "    state = env.reset()\n",
    "    for t in range(n_steps):\n",
    "        time.sleep(0.05)\n",
    "        env.render()\n",
    "        action = env.action_space.sample()\n",
    "        next_state, reward, done, info = env.step(action)\n",
    "        if done:\n",
    "            print('Game ' + str(game) + ' score: ' + str(t))\n",
    "            scores.append(t)\n",
    "            break\n",
    "env.close()"
   ]
  },
  {
   "cell_type": "code",
   "execution_count": 55,
   "metadata": {},
   "outputs": [
    {
     "name": "stdout",
     "output_type": "stream",
     "text": [
      "Game 0 score: 733\n"
     ]
    }
   ],
   "source": [
    "## DQN Agent\n",
    "n_games = 3\n",
    "n_steps = 1000\n",
    "scores = []\n",
    "for game in range(n_games):\n",
    "    state = env.reset()\n",
    "    state = preprocess_state(state)\n",
    "    for t in range(n_steps):\n",
    "        time.sleep(0.05)\n",
    "        env.render()\n",
    "        action = choose_action(state)\n",
    "        next_state, reward, done, info = env.step(action)\n",
    "        next_state = preprocess_state(next_state)\n",
    "        state = next_state\n",
    "        if done:\n",
    "            print('Game ' + str(game) + ' score: ' + str(t))\n",
    "            scores.append(t)\n",
    "            break\n",
    "env.close()"
   ]
  }
 ],
 "metadata": {
  "kernelspec": {
   "display_name": "Python 3",
   "language": "python",
   "name": "python3"
  },
  "language_info": {
   "codemirror_mode": {
    "name": "ipython",
    "version": 3
   },
   "file_extension": ".py",
   "mimetype": "text/x-python",
   "name": "python",
   "nbconvert_exporter": "python",
   "pygments_lexer": "ipython3",
   "version": "3.5.6"
  }
 },
 "nbformat": 4,
 "nbformat_minor": 2
}
