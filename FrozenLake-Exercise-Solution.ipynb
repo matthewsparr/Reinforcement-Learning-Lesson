{
 "cells": [
  {
   "cell_type": "markdown",
   "metadata": {},
   "source": [
    "# <center>Frozen Lake\n",
    "### <center>Using Q-learning to not die"
   ]
  },
  {
   "cell_type": "markdown",
   "metadata": {},
   "source": [
    "<img src='frozenlake.png'>"
   ]
  },
  {
   "cell_type": "markdown",
   "metadata": {},
   "source": [
    "First, let's import all the necessary libraries. "
   ]
  },
  {
   "cell_type": "code",
   "execution_count": 1,
   "metadata": {},
   "outputs": [],
   "source": [
    "import gym\n",
    "import numpy as np\n",
    "import time\n",
    "from IPython.display import clear_output\n",
    "import pandas as pd"
   ]
  },
  {
   "cell_type": "markdown",
   "metadata": {},
   "source": [
    "Next, let's watch some random playing of the game."
   ]
  },
  {
   "cell_type": "code",
   "execution_count": 5,
   "metadata": {},
   "outputs": [
    {
     "name": "stdout",
     "output_type": "stream",
     "text": [
      "  (Down)\n",
      "SFFF\n",
      "\u001b[41mF\u001b[0mHFH\n",
      "FFFH\n",
      "HFFG\n"
     ]
    }
   ],
   "source": [
    "env = gym.make(\"FrozenLake-v0\", is_slippery=False)\n",
    "for game in range(10):\n",
    "    state = env.reset()\n",
    "    for t in range(100):\n",
    "        clear_output(wait=True)\n",
    "        env.render()\n",
    "        time.sleep(0.2)\n",
    "        action = env.action_space.sample()\n",
    "        next_state, reward, done, info = env.step(action)\n",
    "        if done:\n",
    "            break"
   ]
  },
  {
   "cell_type": "markdown",
   "metadata": {},
   "source": [
    "### <center>Discuss\n",
    "#### <center> What do you observe from watching the random agent? \n",
    "#### <center> Do you think this will be an easy environment to solve?"
   ]
  },
  {
   "cell_type": "markdown",
   "metadata": {},
   "source": [
    "Now, let's try using Q-learning to train an agent to play the game."
   ]
  },
  {
   "cell_type": "markdown",
   "metadata": {},
   "source": [
    "We will start with a version of FrozenLake where the surface is not slippery. This is a deterministic environment -  every action we choose to take will always move us in that direction."
   ]
  },
  {
   "cell_type": "markdown",
   "metadata": {},
   "source": [
    "You will need the following elements:\n",
    "- <b>Q-table</b>:\n",
    "    - Instantiate a table of zeros of size (number of states)x(number of actions)\n",
    "    - You can use np.zeros() to create the array.\n",
    "    \n",
    "- <b>Gamma</b>:\n",
    "    - The discount factor for future rewards.\n",
    "    - Typically a number close to 1 (0.95-0.99) but feel free to try different values.\n",
    "- <b>Scores array</b>:\n",
    "    - An empty list to append scores from each game to.\n",
    "    - Also, set a running score variable to zero at the start of each game.\n",
    "- <b>Action selection</b>:\n",
    "    - At each step, choose the best action.\n",
    "    - Since at the beginning, our table will be all zeros, we need to be able to choose an action at random if more than one has the highest Q-value.\n",
    "    - You can use np.max() to get the highest Q-value.\n",
    "    - Then get the action for each of those highest Q-values with np.where(). (Note: np.where() returns a tuple where the first element is the array of actions.)\n",
    "    - Then use np.random.choice() to select one of the best actions.\n",
    "- <b>Q-value calculation</b>:\n",
    "    - Using the Q-formula:\n",
    "    <img src='q_formula.png'>\n",
    "    - You will have to find the maximum Q-value at the next state.\n",
    "    - You will want to set the appropriate value in your Q-table to this.\n",
    "- <b>Reward tracking</b>:\n",
    "    - Add the current reward to the running score total\n",
    "    - After each game, store the game score in the scores list\n",
    "- <b>State transition</b>\n",
    "    - Set the next state as the current state.\n",
    "- <b>Termination</b>\n",
    "    - If the agent managed to not fall in a hole and thus made it to the goal for 10 episodes in a row, then the environment is considered solved."
   ]
  },
  {
   "cell_type": "code",
   "execution_count": 4,
   "metadata": {},
   "outputs": [
    {
     "name": "stdout",
     "output_type": "stream",
     "text": [
      "Solved!\n",
      "Average per past 100 games: 0.18478260869565216\n",
      "Number of games played: 91\n"
     ]
    }
   ],
   "source": [
    "env = gym.make(\"FrozenLake-v0\", is_slippery=False)\n",
    "\n",
    "Q_table = np.zeros([env.observation_space.n, env.action_space.n])\n",
    "gamma = 0.95\n",
    "scores = []\n",
    "\n",
    "for episode in range(10000):\n",
    "    state = env.reset()\n",
    "    score = 0\n",
    "    done = False\n",
    "    while not done:\n",
    "        action = np.random.choice(np.where(Q_table[state,:]==np.max(Q_table[state,:]))[0])\n",
    "        next_state, reward, done, info = env.step(action)\n",
    "        Q_value = reward + gamma * np.max(Q_table[next_state, :])\n",
    "        Q_table[state, action] = Q_value\n",
    "        score += reward\n",
    "        state = next_state     \n",
    "    scores.append(score)\n",
    "    if episode>9:\n",
    "        if np.mean(scores[-10:])==1:\n",
    "            print(\"Solved!\")\n",
    "            print(\"Average per past 10 games: \" + str(np.mean(scores[-10:])))\n",
    "            print(\"Number of games played: \" + str(episode))\n",
    "            break\n",
    "            \n",
    "if np.mean(scores[-10:])!=1:\n",
    "    print('Failed')\n",
    "env.close()"
   ]
  },
  {
   "cell_type": "markdown",
   "metadata": {},
   "source": [
    "Take a look at your Q-table now."
   ]
  },
  {
   "cell_type": "code",
   "execution_count": 6,
   "metadata": {},
   "outputs": [
    {
     "data": {
      "text/plain": [
       "array([[0.   , 0.   , 0.774, 0.   ],\n",
       "       [0.   , 0.   , 0.815, 0.   ],\n",
       "       [0.   , 0.857, 0.   , 0.   ],\n",
       "       [0.   , 0.   , 0.   , 0.   ],\n",
       "       [0.   , 0.   , 0.   , 0.   ],\n",
       "       [0.   , 0.   , 0.   , 0.   ],\n",
       "       [0.   , 0.902, 0.   , 0.   ],\n",
       "       [0.   , 0.   , 0.   , 0.   ],\n",
       "       [0.   , 0.   , 0.   , 0.   ],\n",
       "       [0.   , 0.   , 0.902, 0.   ],\n",
       "       [0.   , 0.95 , 0.   , 0.   ],\n",
       "       [0.   , 0.   , 0.   , 0.   ],\n",
       "       [0.   , 0.   , 0.   , 0.   ],\n",
       "       [0.   , 0.   , 0.95 , 0.   ],\n",
       "       [0.   , 0.   , 1.   , 0.   ],\n",
       "       [0.   , 0.   , 0.   , 0.   ]])"
      ]
     },
     "execution_count": 6,
     "metadata": {},
     "output_type": "execute_result"
    }
   ],
   "source": [
    "q_table_not_slippery = np.round(Q_table,3)\n",
    "q_table_not_slippery"
   ]
  },
  {
   "cell_type": "markdown",
   "metadata": {},
   "source": [
    "### <center>Discuss\n",
    "#### <center> How did your agent do? \n",
    "#### <center> What does your Q-table look like?"
   ]
  },
  {
   "cell_type": "markdown",
   "metadata": {},
   "source": [
    "Now we are going to try a stochastic version of our environment by setting is_slippery to true. There is a now a chance that we will slide on the ice and move a different direction than what we chose. "
   ]
  },
  {
   "cell_type": "markdown",
   "metadata": {},
   "source": [
    "### <center>Discuss\n",
    "#### <center> How do you think the challenge will change in the new, slippery version of the environment?\n"
   ]
  },
  {
   "cell_type": "markdown",
   "metadata": {},
   "source": [
    "Copy your code from above and paste below with the following changes:\n",
    "- <b>is_slippery</b>:\n",
    "    - Set to True"
   ]
  },
  {
   "cell_type": "code",
   "execution_count": 7,
   "metadata": {},
   "outputs": [
    {
     "name": "stdout",
     "output_type": "stream",
     "text": [
      "Episode:  0 Average success rate:  0.0\n",
      "Episode:  1000 Average success rate:  0.017982017982017984\n",
      "Episode:  2000 Average success rate:  0.02048975512243878\n",
      "Episode:  3000 Average success rate:  0.01866044651782739\n",
      "Episode:  4000 Average success rate:  0.018245438640339916\n",
      "Episode:  5000 Average success rate:  0.01919616076784643\n",
      "Episode:  6000 Average success rate:  0.019330111648058656\n",
      "Episode:  7000 Average success rate:  0.01814026567633195\n",
      "Episode:  8000 Average success rate:  0.017872765904261966\n",
      "Episode:  9000 Average success rate:  0.016887012554160648\n",
      "Failed\n"
     ]
    }
   ],
   "source": [
    "env = gym.make(\"FrozenLake-v0\", is_slippery=True)\n",
    "\n",
    "Q_table = np.zeros([env.observation_space.n, env.action_space.n])\n",
    "gamma = 0.95\n",
    "scores = []\n",
    "\n",
    "for episode in range(10000):\n",
    "    state = env.reset()\n",
    "    score = 0\n",
    "    done = False\n",
    "    while not done:\n",
    "        action = np.random.choice(np.where(Q_table[state,:]==np.max(Q_table[state,:]))[0])\n",
    "        next_state, reward, done, info = env.step(action)\n",
    "        Q_value = reward + gamma * np.max(Q_table[next_state, :])\n",
    "        Q_table[state, action] = Q_value\n",
    "        score += reward\n",
    "        state = next_state     \n",
    "    scores.append(score)\n",
    "    if episode>9:\n",
    "        if np.mean(scores[-10:])==1:\n",
    "            print(\"Solved!\")\n",
    "            print(\"Average per past 10 games: \" + str(np.mean(scores[-10:])))\n",
    "            print(\"Number of games played: \" + str(episode))\n",
    "            break\n",
    "     \n",
    "    if episode%1000==0:\n",
    "        print('Episode: ',episode, 'Average success rate: ', np.mean(scores))\n",
    "if np.mean(scores[-10:])!=1:\n",
    "    print('Failed')\n",
    "env.close()"
   ]
  },
  {
   "cell_type": "markdown",
   "metadata": {},
   "source": [
    "Take a look at your Q-table now."
   ]
  },
  {
   "cell_type": "code",
   "execution_count": 8,
   "metadata": {},
   "outputs": [
    {
     "data": {
      "text/plain": [
       "array([[0.   , 0.   , 0.   , 0.   ],\n",
       "       [0.   , 0.   , 0.   , 0.   ],\n",
       "       [0.   , 0.   , 0.   , 0.   ],\n",
       "       [0.   , 0.   , 0.   , 0.   ],\n",
       "       [0.   , 0.   , 0.   , 0.   ],\n",
       "       [0.   , 0.   , 0.   , 0.   ],\n",
       "       [0.   , 0.   , 0.   , 0.   ],\n",
       "       [0.   , 0.   , 0.   , 0.   ],\n",
       "       [0.   , 0.   , 0.   , 0.857],\n",
       "       [0.   , 0.   , 0.   , 0.   ],\n",
       "       [0.   , 0.   , 0.   , 0.   ],\n",
       "       [0.   , 0.   , 0.   , 0.   ],\n",
       "       [0.   , 0.   , 0.   , 0.   ],\n",
       "       [0.   , 0.   , 0.95 , 0.   ],\n",
       "       [0.   , 0.   , 1.   , 0.   ],\n",
       "       [0.   , 0.   , 0.   , 0.   ]])"
      ]
     },
     "execution_count": 8,
     "metadata": {},
     "output_type": "execute_result"
    }
   ],
   "source": [
    "q_table_is_slippery = np.round(Q_table,3)\n",
    "q_table_is_slippery"
   ]
  },
  {
   "cell_type": "markdown",
   "metadata": {},
   "source": [
    "### <center>Discuss\n",
    "#### <center> How did your agent perform in the slippery environment?\n",
    "#### <center> Why is performance different in this environment?\n"
   ]
  },
  {
   "cell_type": "markdown",
   "metadata": {},
   "source": [
    "### <center>Solution"
   ]
  },
  {
   "cell_type": "markdown",
   "metadata": {},
   "source": [
    "#### <center>Greedy epsilon policy\n",
    "<center>Makes the agent explore the environment more at first and then later on relying only on its knowledge."
   ]
  },
  {
   "cell_type": "markdown",
   "metadata": {},
   "source": [
    "#### <center>Learning rate\n",
    "<center>Allows the agent to accumulate knowledge, not just overriding previous Q-values with each new experience."
   ]
  },
  {
   "cell_type": "markdown",
   "metadata": {},
   "source": [
    "<center>Q[s, a] = Q[s, a] + alpha*(R + gamma*Max[Q(s’, A)] - Q[s, a])"
   ]
  },
  {
   "cell_type": "code",
   "execution_count": 11,
   "metadata": {},
   "outputs": [
    {
     "name": "stdout",
     "output_type": "stream",
     "text": [
      "Average success rate:  0.0  Epsilon:  0.995\n",
      "Average success rate:  0.0594059405940594  Epsilon:  0.6027415843082742\n",
      "Average success rate:  0.05472636815920398  Epsilon:  0.36512303261753626\n",
      "Average success rate:  0.05647840531561462  Epsilon:  0.2211807388415433\n",
      "Average success rate:  0.07481296758104738  Epsilon:  0.13398475271138335\n",
      "Average success rate:  0.09780439121756487  Epsilon:  0.0811640021330769\n",
      "Average success rate:  0.11314475873544093  Epsilon:  0.04916675299948831\n",
      "Average success rate:  0.12838801711840228  Epsilon:  0.029783765425331846\n",
      "Average success rate:  0.15355805243445692  Epsilon:  0.018042124582040707\n",
      "Average success rate:  0.19089900110987792  Epsilon:  0.010929385683282892\n",
      "Average success rate:  0.22977022977022976  Epsilon:  0.0066206987359377885\n",
      "Solved!\n",
      "Average per past 10 games: 1.0\n",
      "Number of games played: 1019\n"
     ]
    }
   ],
   "source": [
    "env = gym.make(\"FrozenLake-v0\", is_slippery=True)\n",
    "\n",
    "Q_table = np.zeros([env.observation_space.n, env.action_space.n])\n",
    "gamma = 0.95\n",
    "scores = []\n",
    "\n",
    "epsilon = 1\n",
    "epsilon_decay = 0.995\n",
    "epsilon_min = 0.01\n",
    "alpha = 0.85\n",
    "\n",
    "for episode in range(10000):\n",
    "    state = env.reset()\n",
    "    score = 0\n",
    "    done = False\n",
    "    while not done:\n",
    "        if np.random.rand() < epsilon:\n",
    "            action = env.action_space.sample()\n",
    "        else:\n",
    "            action = np.random.choice(np.where(Q_table[state,:]==np.max(Q_table[state,:]))[0])\n",
    "        next_state, reward, done, info = env.step(action)\n",
    "        Q_value = reward + gamma * np.max(Q_table[next_state, :])\n",
    "        Q_table[state, action] = Q_table[state, action] + alpha*(Q_value-Q_table[state,action])\n",
    "        score += reward\n",
    "        state = next_state     \n",
    "    scores.append(score)\n",
    "    epsilon = epsilon*epsilon_decay\n",
    "    if episode>99:\n",
    "        if np.mean(scores[-10:])==1:\n",
    "            print(\"Solved!\")\n",
    "            print(\"Average per past 10 games: \" + str(np.mean(scores[-10:])))\n",
    "            print(\"Number of games played: \" + str(episode))\n",
    "            break\n",
    "     \n",
    "    if episode%100==0:\n",
    "        print('Average success rate: ', np.mean(scores), ' Epsilon: ', epsilon)\n",
    "if np.mean(scores[-10:])!=1:\n",
    "    print('Failed')\n",
    "env.close()"
   ]
  },
  {
   "cell_type": "code",
   "execution_count": 12,
   "metadata": {},
   "outputs": [
    {
     "data": {
      "text/plain": [
       "array([[0.297, 0.07 , 0.028, 0.062],\n",
       "       [0.003, 0.004, 0.001, 0.28 ],\n",
       "       [0.004, 0.006, 0.012, 0.178],\n",
       "       [0.   , 0.01 , 0.011, 0.074],\n",
       "       [0.38 , 0.008, 0.016, 0.001],\n",
       "       [0.   , 0.   , 0.   , 0.   ],\n",
       "       [0.   , 0.   , 0.031, 0.   ],\n",
       "       [0.   , 0.   , 0.   , 0.   ],\n",
       "       [0.002, 0.011, 0.013, 0.755],\n",
       "       [0.003, 0.866, 0.   , 0.003],\n",
       "       [0.746, 0.004, 0.002, 0.   ],\n",
       "       [0.   , 0.   , 0.   , 0.   ],\n",
       "       [0.   , 0.   , 0.   , 0.   ],\n",
       "       [0.008, 0.   , 0.747, 0.014],\n",
       "       [0.118, 0.958, 0.107, 0.167],\n",
       "       [0.   , 0.   , 0.   , 0.   ]])"
      ]
     },
     "execution_count": 12,
     "metadata": {},
     "output_type": "execute_result"
    }
   ],
   "source": [
    "q_table_is_slippery_solved = np.round(Q_table,3)\n",
    "q_table_is_slippery_solved"
   ]
  },
  {
   "cell_type": "code",
   "execution_count": null,
   "metadata": {},
   "outputs": [],
   "source": []
  }
 ],
 "metadata": {
  "kernelspec": {
   "display_name": "Python 3",
   "language": "python",
   "name": "python3"
  },
  "language_info": {
   "codemirror_mode": {
    "name": "ipython",
    "version": 3
   },
   "file_extension": ".py",
   "mimetype": "text/x-python",
   "name": "python",
   "nbconvert_exporter": "python",
   "pygments_lexer": "ipython3",
   "version": "3.5.6"
  }
 },
 "nbformat": 4,
 "nbformat_minor": 2
}
